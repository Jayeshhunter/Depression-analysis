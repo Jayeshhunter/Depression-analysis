{
  "nbformat": 4,
  "nbformat_minor": 0,
  "metadata": {
    "colab": {
      "name": "imports.ipynb",
      "provenance": []
    },
    "kernelspec": {
      "name": "python3",
      "display_name": "Python 3"
    },
    "language_info": {
      "name": "python"
    }
  },
  "cells": [
    {
      "cell_type": "code",
      "execution_count": null,
      "metadata": {
        "id": "se4BmLZfiitM"
      },
      "outputs": [],
      "source": [
        "%matplotlib inline\n",
        "import numpy as np \n",
        "import pandas as pd \n",
        "import matplotlib.pylab as plt"
      ]
    }
  ]
}