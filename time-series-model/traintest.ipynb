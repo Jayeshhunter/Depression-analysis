{
  "nbformat": 4,
  "nbformat_minor": 0,
  "metadata": {
    "colab": {
      "name": "traintest.ipynb",
      "provenance": []
    },
    "kernelspec": {
      "name": "python3",
      "display_name": "Python 3"
    },
    "language_info": {
      "name": "python"
    }
  },
  "cells": [
    {
      "cell_type": "code",
      "execution_count": 3,
      "metadata": {
        "id": "se4BmLZfiitM"
      },
      "outputs": [],
      "source": [
        "%matplotlib inline\n",
        "import numpy as np \n",
        "import pandas as pd \n",
        "import matplotlib.pylab as plt"
      ]
    },
    {
      "cell_type": "code",
      "source": [
        "mh = pd.read_csv('MentalHealth.csv')\n",
        "mh['Date'] = pd.to_datetime(mh['Date'])\n",
        "mh.set_index('Date', inplace=True)\n",
        "mh.head() \n",
        "series_value = mh.values"
      ],
      "metadata": {
        "id": "odPtaCB3jNlu"
      },
      "execution_count": 4,
      "outputs": []
    },
    {
      "cell_type": "code",
      "source": [
        "smooth = mh.rolling(window=25).mean()"
      ],
      "metadata": {
        "id": "VUBAf1DkjT1w"
      },
      "execution_count": 5,
      "outputs": []
    },
    {
      "cell_type": "code",
      "source": [
        "value = pd.DataFrame(series_value)\n",
        "mh_Hscore= pd.concat([value,value.shift(1)],axis = 1)\n",
        "mh_Hscore.columns = ['Actual_Hscore','Forecast_Hscore']\n",
        "mh_test = mh_Hscore[1:]"
      ],
      "metadata": {
        "id": "kgwMYTGDjWxV"
      },
      "execution_count": 6,
      "outputs": []
    },
    {
      "cell_type": "code",
      "source": [
        "mh_train = mh[:330]\n",
        "mh_test = mh[330:]"
      ],
      "metadata": {
        "id": "8_JcA1ljkKzw"
      },
      "execution_count": 7,
      "outputs": []
    }
  ]
}