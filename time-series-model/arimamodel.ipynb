{
  "nbformat": 4,
  "nbformat_minor": 0,
  "metadata": {
    "colab": {
      "name": "arimamodel.ipynb",
      "provenance": []
    },
    "kernelspec": {
      "name": "python3",
      "display_name": "Python 3"
    },
    "language_info": {
      "name": "python"
    }
  },
  "cells": [
    {
      "cell_type": "code",
      "execution_count": 3,
      "metadata": {
        "id": "se4BmLZfiitM"
      },
      "outputs": [],
      "source": [
        "%matplotlib inline\n",
        "import numpy as np \n",
        "import pandas as pd \n",
        "import matplotlib.pylab as plt"
      ]
    },
    {
      "cell_type": "code",
      "source": [
        "mh = pd.read_csv('MentalHealth.csv')\n",
        "mh['Date'] = pd.to_datetime(mh['Date'])\n",
        "mh.set_index('Date', inplace=True)\n",
        "mh.head() \n",
        "series_value = mh.values"
      ],
      "metadata": {
        "id": "odPtaCB3jNlu"
      },
      "execution_count": 4,
      "outputs": []
    },
    {
      "cell_type": "code",
      "source": [
        "smooth = mh.rolling(window=25).mean()"
      ],
      "metadata": {
        "id": "VUBAf1DkjT1w"
      },
      "execution_count": 5,
      "outputs": []
    },
    {
      "cell_type": "code",
      "source": [
        "value = pd.DataFrame(series_value)\n",
        "mh_Hscore= pd.concat([value,value.shift(1)],axis = 1)\n",
        "mh_Hscore.columns = ['Actual_Hscore','Forecast_Hscore']\n",
        "mh_test = mh_Hscore[1:]"
      ],
      "metadata": {
        "id": "kgwMYTGDjWxV"
      },
      "execution_count": 6,
      "outputs": []
    },
    {
      "cell_type": "code",
      "source": [
        "mh_train = mh[:330]\n",
        "mh_test = mh[330:]"
      ],
      "metadata": {
        "id": "8_JcA1ljkKzw"
      },
      "execution_count": 7,
      "outputs": []
    },
    {
      "cell_type": "code",
      "source": [
        "from statsmodels.tsa.arima_model import ARIMA\n",
        "arima_model= ARIMA(mh_train,order = (2,1,3))\n",
        "arima_model_fit = arima_model.fit()"
      ],
      "metadata": {
        "colab": {
          "base_uri": "https://localhost:8080/"
        },
        "id": "bgE72YlNkYvr",
        "outputId": "c0ac482f-94c7-46c8-8ec5-a9df70173072"
      },
      "execution_count": 8,
      "outputs": [
        {
          "output_type": "stream",
          "name": "stderr",
          "text": [
            "/usr/local/lib/python3.7/dist-packages/statsmodels/tools/_testing.py:19: FutureWarning: pandas.util.testing is deprecated. Use the functions in the public API at pandas.testing instead.\n",
            "  import pandas.util.testing as tm\n",
            "/usr/local/lib/python3.7/dist-packages/statsmodels/tsa/base/tsa_model.py:219: ValueWarning: A date index has been provided, but it has no associated frequency information and so will be ignored when e.g. forecasting.\n",
            "  ' ignored when e.g. forecasting.', ValueWarning)\n",
            "/usr/local/lib/python3.7/dist-packages/statsmodels/tsa/base/tsa_model.py:219: ValueWarning: A date index has been provided, but it has no associated frequency information and so will be ignored when e.g. forecasting.\n",
            "  ' ignored when e.g. forecasting.', ValueWarning)\n"
          ]
        }
      ]
    }
  ]
}